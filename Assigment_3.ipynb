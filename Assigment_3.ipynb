{
 "cells": [
  {
   "cell_type": "code",
   "execution_count": 3,
   "id": "4905f606-ef92-4711-bd13-7e4cbf37a37c",
   "metadata": {},
   "outputs": [
    {
     "name": "stdin",
     "output_type": "stream",
     "text": [
      "Enter the company address:  A/52 Sector 16 Noida UP \n",
      "Enter the candidate's name:  Rohit kumar\n",
      "Enter the job_title:  Python Developer\n",
      "Enter the expected joining date (DD-MM-YYYY:  12-12-2012\n",
      "Enter the total compensation package:  50000\n",
      "Enter your confirmation email:  rohitkumar342@gmail.com\n",
      "Enter your (HR/Manager's) name:  Shiwani chaurasiya\n",
      "Enter your designation:  HR Manager\n"
     ]
    },
    {
     "name": "stdout",
     "output_type": "stream",
     "text": [
      "\n",
      "----- Generated Offer Letter -----\n",
      "\n",
      "\"\n",
      "\n",
      "A/52 Sector 16 Noida UP \n",
      "\n",
      "Dear Rohit kumar,\n",
      "\n",
      "subject: offer of Employment for the position of Python Developer\n",
      "\n",
      "\n",
      "We are delighted to extend this formal offer of employment to you for the position of\n",
      "Python Developer at our organization. Based on your qualifications and the skills you demonstrated during\n",
      "the recruitment process, we are confident that you will be a valuable addition to our team.\n",
      "\n",
      "As discussed, your expected date of joining is 12-12-2012. Your total compensation package will be 50000, which includes allprovided in\n",
      "your employment contract.\n",
      "salary components as per the company’s policy. Further details regarding your compensation will be provided in your employment contract.\n",
      "\n",
      "We expect you to bring your best efforts to help the company achieve its goals, and we are committed to supporting your professional growth during your time with us.\n",
      "Please confirm your acceptance of this offer by sending an email to rohitkumar342@gmail.com at your earliest convenience. Should you have any queries\n",
      "regarding this offer, feel free to reach out to us.\n",
      "We look forward to having you onboard and are excited about the great things we can accomplish together.\n",
      "\n",
      "Sincerly\n",
      "\n",
      "Shiwani chaurasiya\n",
      "HR Manager\n",
      "\n"
     ]
    }
   ],
   "source": [
    "# offer_letter for a candidate\n",
    "# user input\n",
    "company_address = input(\"Enter the company address: \")\n",
    "candidate_name = input(\"Enter the candidate's name: \")\n",
    "job_title = input(\"Enter the job_title: \")\n",
    "joining_date = input(\"Enter the expected joining date (DD-MM-YYYY: \")\n",
    "compensation = input(\"Enter the total compensation package: \")\n",
    "email = input(\"Enter your confirmation email: \")\n",
    "hr_name = input(\"Enter your (HR/Manager's) name: \")\n",
    "hr_designation = input(\"Enter your designation: \")\n",
    "\n",
    "# generate offer letter\n",
    "offer_letter = f\"\"\"\"\n",
    "\n",
    "{company_address}\n",
    "\n",
    "Dear {candidate_name},\n",
    "\n",
    "subject: offer of Employment for the position of {job_title}\n",
    "\n",
    "\n",
    "We are delighted to extend this formal offer of employment to you for the position of\n",
    "{job_title} at our organization. Based on your qualifications and the skills you demonstrated during\n",
    "the recruitment process, we are confident that you will be a valuable addition to our team.\n",
    "\n",
    "As discussed, your expected date of joining is {joining_date}. Your total compensation package will be {compensation}, which includes allprovided in\n",
    "your employment contract.\n",
    "salary components as per the company’s policy. Further details regarding your compensation will be provided in your employment contract.\n",
    "\n",
    "We expect you to bring your best efforts to help the company achieve its goals, and we are committed to supporting your professional growth during your time with us.\n",
    "Please confirm your acceptance of this offer by sending an email to {email} at your earliest convenience. Should you have any queries\n",
    "regarding this offer, feel free to reach out to us.\n",
    "We look forward to having you onboard and are excited about the great things we can accomplish together.\n",
    "\n",
    "Sincerly\n",
    "\n",
    "{hr_name}\n",
    "{hr_designation}\n",
    "\"\"\"\n",
    "\n",
    "# output the letter\n",
    "print(\"\\n----- Generated Offer Letter -----\\n\")\n",
    "print(offer_letter)\n",
    "\n",
    "# Run the function\n"
   ]
  },
  {
   "cell_type": "code",
   "execution_count": null,
   "id": "ac0cf12d-6619-49f3-96ea-386aa5eeea4d",
   "metadata": {},
   "outputs": [],
   "source": []
  }
 ],
 "metadata": {
  "kernelspec": {
   "display_name": "Python 3 (ipykernel)",
   "language": "python",
   "name": "python3"
  },
  "language_info": {
   "codemirror_mode": {
    "name": "ipython",
    "version": 3
   },
   "file_extension": ".py",
   "mimetype": "text/x-python",
   "name": "python",
   "nbconvert_exporter": "python",
   "pygments_lexer": "ipython3",
   "version": "3.13.3"
  }
 },
 "nbformat": 4,
 "nbformat_minor": 5
}
