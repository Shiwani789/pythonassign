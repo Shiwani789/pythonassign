{
 "cells": [
  {
   "cell_type": "markdown",
   "id": "9ecdebc3-5e7d-4967-914a-152999f1b463",
   "metadata": {},
   "source": [
    "1. In the below elements which of them are values or an expression? eg:- values can be\n",
    "integer or string and expressions will be mathematical operators.\n",
    "*\n",
    "\"hello\"\n",
    "-87.8\n",
    "-\n",
    "/\n",
    "+\n",
    "6"
   ]
  },
  {
   "cell_type": "markdown",
   "id": "946e2b4e-5631-4b88-a0ba-69f279ac4f7d",
   "metadata": {},
   "source": [
    "* --> its is a arthemict operator ,this is multiplication operator\n",
    "\n"
   ]
  },
  {
   "cell_type": "code",
   "execution_count": null,
   "id": "8878751e-b371-40e0-8214-37c8534a3ab8",
   "metadata": {},
   "outputs": [],
   "source": [
    "\"hello\" -> its is a string datatype\n",
    "-87.8-> its is a float datatype\n",
    "- -> its is arthmetic opreator, this is subtraction opreator\n",
    "/ --> its is arthmetic opreator,this is division opreator\n",
    "+ --> its is arthmetic opreator,this is addition opreator\n",
    "6 --> its is integer datatype,this is whole number\n",
    "  "
   ]
  },
  {
   "cell_type": "markdown",
   "id": "b0127209-ba8a-448f-93db-45738302dc84",
   "metadata": {},
   "source": [
    "2. What is the difference between string and variable?\n",
    "\n",
    "Ans-> string : A string is a type of data that represents text.\n",
    "\n",
    "It is made up of characters enclosed in quotation marks (' ', \" \").\n",
    "\n",
    "    variable: A variable is a name that is used to store data (including strings).\n",
    "\n",
    "It acts as a container for values that can change.\n",
    "\n"
   ]
  },
  {
   "cell_type": "markdown",
   "id": "e825e49b-61d4-4822-a3a3-6d7180766f19",
   "metadata": {},
   "source": [
    "3. Describe three different data types.\n",
    "ans--> 1. Integer (int)\n",
    "its Represents whole numbers (no decimal points).\n",
    "\n",
    "Examples: 5, -10, 0, 1000\n",
    "\n",
    "Use: Used for counting, indexing, arithmetic operations, etc\n"
   ]
  },
  {
   "cell_type": "code",
   "execution_count": null,
   "id": "f5ca1d90-878c-466e-9570-48be6eee5012",
   "metadata": {},
   "outputs": [],
   "source": [
    "age = 25\n",
    "print(age)\n",
    "type(age)"
   ]
  },
  {
   "cell_type": "markdown",
   "id": "c1c34288-332d-45d4-8316-a371febae542",
   "metadata": {},
   "source": [
    "2. String (str) :\n",
    "its Represents a sequence of characters (text).\n",
    "\n",
    "Examples: \"hello\", '123', \"True\"\n",
    "\n",
    "Use: Used for storing names, messages, user input, etc.\n",
    "Example"
   ]
  },
  {
   "cell_type": "code",
   "execution_count": 4,
   "id": "95e94e49-210f-481d-9fe1-8e20e7344b28",
   "metadata": {},
   "outputs": [
    {
     "name": "stdout",
     "output_type": "stream",
     "text": [
      "shiya\n"
     ]
    },
    {
     "data": {
      "text/plain": [
       "str"
      ]
     },
     "execution_count": 4,
     "metadata": {},
     "output_type": "execute_result"
    }
   ],
   "source": [
    "name = \"shiya\"\n",
    "print(name)\n",
    "type(name)"
   ]
  },
  {
   "cell_type": "markdown",
   "id": "8dcde922-24bb-4cf8-8402-acabf14383b8",
   "metadata": {},
   "source": [
    "3. Boolean (bool) :\n",
    " Represents a truth value — either True or False.\n",
    "\n",
    "Examples: True, False\n",
    "\n",
    "Use: Used in decision-making, conditions, and logical operations.\n",
    "\n",
    "Ex-"
   ]
  },
  {
   "cell_type": "code",
   "execution_count": 7,
   "id": "e9cefb83-5c22-4cd5-94a9-2444e8c4b507",
   "metadata": {},
   "outputs": [
    {
     "name": "stdout",
     "output_type": "stream",
     "text": [
      "True\n"
     ]
    },
    {
     "data": {
      "text/plain": [
       "bool"
      ]
     },
     "execution_count": 7,
     "metadata": {},
     "output_type": "execute_result"
    }
   ],
   "source": [
    "name = True\n",
    "print(name)\n",
    "type(True)"
   ]
  },
  {
   "cell_type": "markdown",
   "id": "dba0df69-a4ab-4ac6-a07e-3a53bf4adad6",
   "metadata": {},
   "source": [
    "4. What is an expression made up of? What do all expressions do?"
   ]
  },
  {
   "cell_type": "markdown",
   "id": "28c076ed-33d6-433a-a7f6-19d691d5e082",
   "metadata": {},
   "source": [
    "ans_> An expression is a combination of values,\n",
    "variables, operators, and function calls that Python (or any programming language) can evaluate (calculate) to produce a result."
   ]
  },
  {
   "cell_type": "markdown",
   "id": "e271081c-636d-4e64-8fd1-fefa898d8ee4",
   "metadata": {},
   "source": [
    "🔹 An Expression is made up of:"
   ]
  },
  {
   "cell_type": "markdown",
   "id": "f768fc7c-9062-4d93-9457-2d4692c77466",
   "metadata": {},
   "source": [
    " . Values : \n",
    "Literal data like numbers or strings.\n",
    "    ex-"
   ]
  },
  {
   "cell_type": "code",
   "execution_count": 10,
   "id": "f6371e16-6b78-4e4e-816b-945bb2108d0d",
   "metadata": {},
   "outputs": [
    {
     "name": "stdout",
     "output_type": "stream",
     "text": [
      "shiya\n"
     ]
    }
   ],
   "source": [
    "\n",
    "name = \"shiya\"\n",
    "print(name)"
   ]
  },
  {
   "cell_type": "code",
   "execution_count": 11,
   "id": "c1b33233-b3fe-4a59-a12a-e3132160edd8",
   "metadata": {},
   "outputs": [
    {
     "data": {
      "text/plain": [
       "9"
      ]
     },
     "execution_count": 11,
     "metadata": {},
     "output_type": "execute_result"
    }
   ],
   "source": [
    "5+4"
   ]
  },
  {
   "cell_type": "markdown",
   "id": "6de965c6-60a1-4686-b60c-78ef998fb5ac",
   "metadata": {},
   "source": [
    "Variables ->\n",
    "Names that store data.\n",
    "Example: x, name"
   ]
  },
  {
   "cell_type": "code",
   "execution_count": 14,
   "id": "41223d42-cbfd-4dc5-85d7-4514c96ad5c6",
   "metadata": {},
   "outputs": [
    {
     "name": "stdout",
     "output_type": "stream",
     "text": [
      "shiya\n"
     ]
    }
   ],
   "source": [
    "name = \"shiya\"\n",
    "print(name)"
   ]
  },
  {
   "cell_type": "markdown",
   "id": "e2ba1947-8aeb-4f17-b269-16f159d1be34",
   "metadata": {},
   "source": [
    "Operators ->\n",
    "Symbols that perform operations (e.g., +, -, *, /).\n",
    "Ex-"
   ]
  },
  {
   "cell_type": "code",
   "execution_count": 15,
   "id": "e36a3014-ef23-4d20-94ec-634288ae651e",
   "metadata": {},
   "outputs": [
    {
     "data": {
      "text/plain": [
       "5"
      ]
     },
     "execution_count": 15,
     "metadata": {},
     "output_type": "execute_result"
    }
   ],
   "source": [
    "2+3 \n"
   ]
  },
  {
   "cell_type": "markdown",
   "id": "a38b7d9b-89a3-4e8e-a8b9-77477c09176e",
   "metadata": {},
   "source": [
    "Function calls -> \n",
    "Built-in or custom functions that return values.\n",
    "Example"
   ]
  },
  {
   "cell_type": "code",
   "execution_count": 16,
   "id": "972f1185-87e9-4302-967d-d71522676595",
   "metadata": {},
   "outputs": [
    {
     "data": {
      "text/plain": [
       "5"
      ]
     },
     "execution_count": 16,
     "metadata": {},
     "output_type": "execute_result"
    }
   ],
   "source": [
    "len(\"hello\")"
   ]
  },
  {
   "cell_type": "markdown",
   "id": "1f0dcc12-a166-4b18-af5d-11aa382268e7",
   "metadata": {},
   "source": [
    "5. This assignment statements, like spam = 10. What is the difference between an\n",
    "expression and a statement?"
   ]
  },
  {
   "cell_type": "markdown",
   "id": "e02f1437-cbb9-4b5f-9452-e9ada8f576ff",
   "metadata": {},
   "source": [
    "Ans -> Statement : \n",
    "A statement is a line of code that performs an action.\n",
    "It does something, like creating a variable, running a loop, or calling a function."
   ]
  },
  {
   "cell_type": "code",
   "execution_count": 17,
   "id": "62c18ed7-a010-477a-93a1-71221cb4c3ac",
   "metadata": {},
   "outputs": [],
   "source": [
    "spam = 10"
   ]
  },
  {
   "cell_type": "markdown",
   "id": "c1015eea-4c36-46ea-800d-f6865a1cf868",
   "metadata": {},
   "source": [
    "This is an assignment statement. It assigns the value 10 to the variable spam. It doesn’t return a value .\n",
    "it just does the action."
   ]
  },
  {
   "cell_type": "markdown",
   "id": "4d7cc451-1abe-44c7-92bd-e5a650d0d0f2",
   "metadata": {},
   "source": [
    "Expression :  \n",
    "An expression is a combination of values, variables, and operators that produces a value."
   ]
  },
  {
   "cell_type": "code",
   "execution_count": 18,
   "id": "4666a722-73ac-4f28-9310-a80989763446",
   "metadata": {},
   "outputs": [
    {
     "data": {
      "text/plain": [
       "7"
      ]
     },
     "execution_count": 18,
     "metadata": {},
     "output_type": "execute_result"
    }
   ],
   "source": [
    "3 + 4          "
   ]
  },
  {
   "cell_type": "code",
   "execution_count": 19,
   "id": "040e31d1-20b8-48db-8fe9-c142dc6d532c",
   "metadata": {},
   "outputs": [
    {
     "data": {
      "text/plain": [
       "20"
      ]
     },
     "execution_count": 19,
     "metadata": {},
     "output_type": "execute_result"
    }
   ],
   "source": [
    "spam * 2      "
   ]
  },
  {
   "cell_type": "markdown",
   "id": "b5fbf31c-6f16-4ba9-b7b7-cd03a23a829c",
   "metadata": {},
   "source": [
    "\"Hi\" + \"!\"     "
   ]
  },
  {
   "cell_type": "markdown",
   "id": "23dddb73-8c0b-42cb-8169-239f32241de4",
   "metadata": {},
   "source": [
    "6. After running the following code, what does the variable bacon contain?"
   ]
  },
  {
   "cell_type": "code",
   "execution_count": 22,
   "id": "ae17d589-f81b-47c6-8a61-ecd2c15fb4d2",
   "metadata": {},
   "outputs": [
    {
     "data": {
      "text/plain": [
       "23"
      ]
     },
     "execution_count": 22,
     "metadata": {},
     "output_type": "execute_result"
    }
   ],
   "source": [
    "bacon = 22\n",
    "bacon + 1"
   ]
  },
  {
   "cell_type": "markdown",
   "id": "52d4b682-c927-462c-bf24-7f4425bfb87c",
   "metadata": {},
   "source": [
    "7. What should the values of the following two terms be?"
   ]
  },
  {
   "cell_type": "code",
   "execution_count": 23,
   "id": "4da1d96f-36b6-459a-9450-5844742961a5",
   "metadata": {},
   "outputs": [
    {
     "data": {
      "text/plain": [
       "'shiyashah'"
      ]
     },
     "execution_count": 23,
     "metadata": {},
     "output_type": "execute_result"
    }
   ],
   "source": [
    "\"shiya\" + \"shah\""
   ]
  },
  {
   "cell_type": "code",
   "execution_count": 24,
   "id": "6147b4ab-ea02-48c2-9f14-39e0013ef5e4",
   "metadata": {},
   "outputs": [
    {
     "data": {
      "text/plain": [
       "'shiyashiyashiya'"
      ]
     },
     "execution_count": 24,
     "metadata": {},
     "output_type": "execute_result"
    }
   ],
   "source": [
    "\"shiya\" * 3"
   ]
  },
  {
   "cell_type": "markdown",
   "id": "1a3ad168-dda1-483e-a05a-055c443e0a56",
   "metadata": {},
   "source": [
    "8. Why is eggs a valid variable name while 100 is invalid?"
   ]
  },
  {
   "cell_type": "markdown",
   "id": "ef6ecae5-965d-4d17-8602-2ca54e994f25",
   "metadata": {},
   "source": [
    "Ans->  eggs : \n",
    "It starts with a letter (e).\n",
    "\n",
    "It contains only letters (a–z, A–Z), numbers (0–9), or underscores (_).\n",
    "\n",
    "It does not start with a number."
   ]
  },
  {
   "cell_type": "code",
   "execution_count": 25,
   "id": "7018072c-4667-43f5-a5ac-59c506570f10",
   "metadata": {},
   "outputs": [
    {
     "ename": "SyntaxError",
     "evalue": "cannot assign to literal here. Maybe you meant '==' instead of '='? (2679302629.py, line 1)",
     "output_type": "error",
     "traceback": [
      "  \u001b[36mCell\u001b[39m\u001b[36m \u001b[39m\u001b[32mIn[25]\u001b[39m\u001b[32m, line 1\u001b[39m\n\u001b[31m    \u001b[39m\u001b[31m100 = \"hello\"\u001b[39m\n    ^\n\u001b[31mSyntaxError\u001b[39m\u001b[31m:\u001b[39m cannot assign to literal here. Maybe you meant '==' instead of '='?\n"
     ]
    }
   ],
   "source": [
    "100 = \"hello\" "
   ]
  },
  {
   "cell_type": "markdown",
   "id": "07b82c1f-2e2c-483c-8c93-412ebd7852d5",
   "metadata": {},
   "source": [
    "\n",
    "Python will think 100 is a number, not a name."
   ]
  },
  {
   "cell_type": "code",
   "execution_count": 27,
   "id": "f108acb1-5daf-48c4-84cd-fa9322d275ea",
   "metadata": {},
   "outputs": [
    {
     "name": "stdout",
     "output_type": "stream",
     "text": [
      "100\n"
     ]
    }
   ],
   "source": [
    "mark = 100\n",
    "print(mark)"
   ]
  },
  {
   "cell_type": "markdown",
   "id": "063d0de0-1369-4b9d-bd61-226dae16cd23",
   "metadata": {},
   "source": [
    "9. What three functions can be used to get the integer, floating-point number, or string\n",
    "version of a value?"
   ]
  },
  {
   "cell_type": "markdown",
   "id": "3cbb5a4d-fa38-4de1-87e0-915c4836d37b",
   "metadata": {},
   "source": [
    "Ans -> In Python, you can use three built-in functions to convert values between data types:"
   ]
  },
  {
   "cell_type": "markdown",
   "id": "a98a0810-1efe-495e-ba01-f4d90f72c513",
   "metadata": {},
   "source": [
    " . int() — Converts to integer\n",
    "Converts a number or string into an integer (removes decimal part if any)."
   ]
  },
  {
   "cell_type": "code",
   "execution_count": 28,
   "id": "48a02ae3-f26b-41f3-b32b-b69b340e7715",
   "metadata": {},
   "outputs": [
    {
     "data": {
      "text/plain": [
       "3"
      ]
     },
     "execution_count": 28,
     "metadata": {},
     "output_type": "execute_result"
    }
   ],
   "source": [
    "int(3.9)              "
   ]
  },
  {
   "cell_type": "code",
   "execution_count": 29,
   "id": "1c2fc846-4726-487a-b13f-628c86f4b32c",
   "metadata": {},
   "outputs": [
    {
     "data": {
      "text/plain": [
       "42"
      ]
     },
     "execution_count": 29,
     "metadata": {},
     "output_type": "execute_result"
    }
   ],
   "source": [
    "\n",
    "int(\"42\")      "
   ]
  },
  {
   "cell_type": "markdown",
   "id": "8769c558-c9a4-4ac1-a72b-46cf8376807e",
   "metadata": {},
   "source": [
    ". float() — Converts to floating-point number\n",
    "Converts a number or numeric string into a float (decimal number)."
   ]
  },
  {
   "cell_type": "code",
   "execution_count": 32,
   "id": "0e093d13-be94-4ceb-9d07-9fa75e776ed9",
   "metadata": {},
   "outputs": [
    {
     "data": {
      "text/plain": [
       "3.14"
      ]
     },
     "execution_count": 32,
     "metadata": {},
     "output_type": "execute_result"
    }
   ],
   "source": [
    "float(5)      \n",
    "float(\"3.14\")  "
   ]
  },
  {
   "cell_type": "markdown",
   "id": "d96ba436-62e3-407c-ac43-3cfdc03259c6",
   "metadata": {},
   "source": [
    ". str() — Converts to string\n",
    "Converts a number or any object into a string"
   ]
  },
  {
   "cell_type": "code",
   "execution_count": 33,
   "id": "9763b59d-3291-4c7a-885a-3e6ae3ca4de5",
   "metadata": {},
   "outputs": [
    {
     "data": {
      "text/plain": [
       "'100'"
      ]
     },
     "execution_count": 33,
     "metadata": {},
     "output_type": "execute_result"
    }
   ],
   "source": [
    "str(100)       "
   ]
  },
  {
   "cell_type": "code",
   "execution_count": 34,
   "id": "11292a58-8cfe-4ed5-95e0-6301936027eb",
   "metadata": {},
   "outputs": [
    {
     "data": {
      "text/plain": [
       "'3.14'"
      ]
     },
     "execution_count": 34,
     "metadata": {},
     "output_type": "execute_result"
    }
   ],
   "source": [
    "\n",
    "str(3.14)      "
   ]
  },
  {
   "cell_type": "markdown",
   "id": "0e1b1234-2165-414b-81e7-20fdc7df1742",
   "metadata": {},
   "source": [
    "10. Why does this expression cause an error? How can you fix it?"
   ]
  },
  {
   "cell_type": "markdown",
   "id": "bc16ebad-4e6a-4dec-8230-013e8ae9f7d4",
   "metadata": {},
   "source": [
    "Ans :"
   ]
  },
  {
   "cell_type": "code",
   "execution_count": 35,
   "id": "3b2e249b-bae1-4f90-9775-99d3a5da2d38",
   "metadata": {},
   "outputs": [
    {
     "ename": "TypeError",
     "evalue": "can only concatenate str (not \"int\") to str",
     "output_type": "error",
     "traceback": [
      "\u001b[31m---------------------------------------------------------------------------\u001b[39m",
      "\u001b[31mTypeError\u001b[39m                                 Traceback (most recent call last)",
      "\u001b[36mCell\u001b[39m\u001b[36m \u001b[39m\u001b[32mIn[35]\u001b[39m\u001b[32m, line 1\u001b[39m\n\u001b[32m----> \u001b[39m\u001b[32m1\u001b[39m \u001b[33;43m'\u001b[39;49m\u001b[33;43mI have eaten \u001b[39;49m\u001b[33;43m'\u001b[39;49m\u001b[43m \u001b[49m\u001b[43m+\u001b[49m\u001b[43m \u001b[49m\u001b[32;43m99\u001b[39;49m + \u001b[33m'\u001b[39m\u001b[33m burritos.\u001b[39m\u001b[33m'\u001b[39m\n",
      "\u001b[31mTypeError\u001b[39m: can only concatenate str (not \"int\") to str"
     ]
    }
   ],
   "source": [
    "'I have eaten ' + 99 + ' burritos.'"
   ]
  },
  {
   "cell_type": "markdown",
   "id": "2ae29d75-d7fc-4d65-9173-13507a7a68c9",
   "metadata": {},
   "source": [
    "this cause an error\n",
    "Python tries to add (concatenate) a string and an integer, which is not allowed.\n",
    "'I have eaten ' is a string\n",
    "99 is an integer\n",
    "' burritos.' is a string"
   ]
  },
  {
   "cell_type": "markdown",
   "id": "816f7f69-051d-43eb-ba09-f3c7d309e749",
   "metadata": {},
   "source": [
    "You cannot directly add (+) a string and an integer — Python will raise a TypeError."
   ]
  },
  {
   "cell_type": "markdown",
   "id": "cd768074-5f7d-4053-95ce-e26f9b009aca",
   "metadata": {},
   "source": [
    "its fix "
   ]
  },
  {
   "cell_type": "code",
   "execution_count": 36,
   "id": "cd194b1c-4287-4950-a665-cd17db0fbbcb",
   "metadata": {},
   "outputs": [
    {
     "data": {
      "text/plain": [
       "'I have eaten 99 burritos.'"
      ]
     },
     "execution_count": 36,
     "metadata": {},
     "output_type": "execute_result"
    }
   ],
   "source": [
    "'I have eaten ' + str(99) + ' burritos.'"
   ]
  },
  {
   "cell_type": "markdown",
   "id": "6a3280fb-05ff-409b-a488-b771635bab2c",
   "metadata": {},
   "source": [
    "This works because now all parts are strings."
   ]
  },
  {
   "cell_type": "code",
   "execution_count": 37,
   "id": "2f95ed71-d242-4e4e-8435-12880264ab7b",
   "metadata": {},
   "outputs": [
    {
     "data": {
      "text/plain": [
       "'I have eaten 99 burritos.'"
      ]
     },
     "execution_count": 37,
     "metadata": {},
     "output_type": "execute_result"
    }
   ],
   "source": [
    "'I have eaten 99 burritos.'"
   ]
  },
  {
   "cell_type": "code",
   "execution_count": null,
   "id": "0f5f3c5c-dd89-4275-b9a2-321db195f61f",
   "metadata": {},
   "outputs": [],
   "source": []
  }
 ],
 "metadata": {
  "kernelspec": {
   "display_name": "Python 3 (ipykernel)",
   "language": "python",
   "name": "python3"
  },
  "language_info": {
   "codemirror_mode": {
    "name": "ipython",
    "version": 3
   },
   "file_extension": ".py",
   "mimetype": "text/x-python",
   "name": "python",
   "nbconvert_exporter": "python",
   "pygments_lexer": "ipython3",
   "version": "3.13.3"
  }
 },
 "nbformat": 4,
 "nbformat_minor": 5
}
