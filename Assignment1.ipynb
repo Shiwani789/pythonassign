{
 "cells": [
  {
   "cell_type": "markdown",
   "id": "de778067-5ba3-462d-bc06-e9829cfdfc81",
   "metadata": {},
   "source": [
    "\n",
    "string method in python"
   ]
  },
  {
   "cell_type": "markdown",
   "id": "5520f2a1-ea88-42a6-8926-94ece0641bb9",
   "metadata": {},
   "source": [
    "1. capitalize()"
   ]
  },
  {
   "cell_type": "markdown",
   "id": "69e7eee0-18b0-4968-96f1-471be8ce30c9",
   "metadata": {},
   "source": [
    "Converts first character to uppercase."
   ]
  },
  {
   "cell_type": "code",
   "execution_count": 5,
   "id": "2f3b60c1-dbc3-452d-ace6-15660b27a670",
   "metadata": {},
   "outputs": [
    {
     "name": "stdout",
     "output_type": "stream",
     "text": [
      "Python\n"
     ]
    }
   ],
   "source": [
    "my_string = \"python\"\n",
    "my_string = my_string.capitalize()\n",
    "print(my_string)"
   ]
  },
  {
   "cell_type": "markdown",
   "id": "6c534176-75a8-4f0d-9d39-b88235d4082b",
   "metadata": {},
   "source": [
    "2. strring.lower()"
   ]
  },
  {
   "cell_type": "markdown",
   "id": "a797db01-0b69-412a-b92b-ea3d53071fc2",
   "metadata": {},
   "source": [
    "Converts all characters to lowercase"
   ]
  },
  {
   "cell_type": "markdown",
   "id": "d4d390ba-01ef-496f-bd51-0f0ded45f5ec",
   "metadata": {},
   "source": [
    "my_string =\"PYTHON\"\n",
    "my_string = my_string.lower()\n",
    "print(my_string)"
   ]
  },
  {
   "cell_type": "markdown",
   "id": "ecbbe420-85f6-4afd-9f15-7eff04b976a9",
   "metadata": {},
   "source": [
    "3.string.upper()"
   ]
  },
  {
   "cell_type": "markdown",
   "id": "3ebf5548-5204-4fe0-85e1-e104715699fe",
   "metadata": {},
   "source": [
    "\tConverts all characters to uppercase"
   ]
  },
  {
   "cell_type": "code",
   "execution_count": 11,
   "id": "7ccb6074-a176-433a-8cb2-d5c53beff9ed",
   "metadata": {},
   "outputs": [
    {
     "name": "stdout",
     "output_type": "stream",
     "text": [
      "PYTHON\n"
     ]
    }
   ],
   "source": [
    "my_string = \"python\"\n",
    "my_string = my_string.upper()\n",
    "print(my_string)"
   ]
  },
  {
   "cell_type": "markdown",
   "id": "628194fe-c527-47e2-9ca0-1ad1d352f39b",
   "metadata": {},
   "source": [
    "4. string.center()"
   ]
  },
  {
   "cell_type": "code",
   "execution_count": 14,
   "id": "e9afd97c-bc08-46b9-8889-9b98a8fc6c38",
   "metadata": {},
   "outputs": [
    {
     "name": "stdout",
     "output_type": "stream",
     "text": [
      "            python            \n"
     ]
    }
   ],
   "source": [
    "my_string = \"python\"\n",
    "my_string = my_string.center(30)\n",
    "print(my_string)"
   ]
  },
  {
   "cell_type": "markdown",
   "id": "33a72439-2cd8-468e-9733-977305ad4412",
   "metadata": {},
   "source": [
    "5. string.title"
   ]
  },
  {
   "cell_type": "markdown",
   "id": "89b660b8-b918-4ca3-ac96-ad8358544cc7",
   "metadata": {},
   "source": [
    "\tCapitalizes the first letter of each word"
   ]
  },
  {
   "cell_type": "markdown",
   "id": "a7e325e4-d838-427b-9550-442e819c1eb2",
   "metadata": {},
   "source": [
    "my_string = \"hello world\"\n",
    "my_string = my_string.title()\n",
    "print(my_string)"
   ]
  },
  {
   "cell_type": "markdown",
   "id": "a63ab1dd-01e9-4a54-b552-a805c9de18a0",
   "metadata": {},
   "source": [
    "6. string.swapcase()"
   ]
  },
  {
   "cell_type": "markdown",
   "id": "e77355df-d3ed-4153-818c-53612e30df49",
   "metadata": {},
   "source": [
    "Swaps case: uppercase ↔ lowercase."
   ]
  },
  {
   "cell_type": "code",
   "execution_count": 21,
   "id": "ea947700-dc88-4e9f-8b11-13e63ab3dcc9",
   "metadata": {},
   "outputs": [
    {
     "name": "stdout",
     "output_type": "stream",
     "text": [
      "PytHOn\n"
     ]
    }
   ],
   "source": [
    "my_string = \"pYThoN\"\n",
    "print(my_string.swapcase())"
   ]
  },
  {
   "cell_type": "markdown",
   "id": "7a191d0d-2c2d-4d9b-b7ed-bf2e85ca7124",
   "metadata": {},
   "source": [
    "7. strip()"
   ]
  },
  {
   "cell_type": "markdown",
   "id": "6475c308-cd5a-4628-a8c6-824894d5d37c",
   "metadata": {},
   "source": [
    "\tRemoves whitespace from both ends"
   ]
  },
  {
   "cell_type": "code",
   "execution_count": 24,
   "id": "2e1a21c4-82c2-4f45-87bd-361fd4f349c3",
   "metadata": {},
   "outputs": [
    {
     "name": "stdout",
     "output_type": "stream",
     "text": [
      "hello\n"
     ]
    }
   ],
   "source": [
    "my_string = \"  hello  \"\n",
    "print(my_string.strip())"
   ]
  },
  {
   "cell_type": "markdown",
   "id": "6b914f69-857e-4804-9df0-889562ec42c4",
   "metadata": {},
   "source": [
    "8. string.lstrip()"
   ]
  },
  {
   "cell_type": "markdown",
   "id": "e9325cb9-d90c-4671-a270-5aa923009939",
   "metadata": {},
   "source": [
    "Removes whitespace from the left side"
   ]
  },
  {
   "cell_type": "code",
   "execution_count": 28,
   "id": "e0074080-46a9-4234-9bf5-a0969b2aa860",
   "metadata": {},
   "outputs": [
    {
     "name": "stdout",
     "output_type": "stream",
     "text": [
      "python\n"
     ]
    }
   ],
   "source": [
    "my_string = \"  python\"\n",
    "print(my_string.lstrip())"
   ]
  },
  {
   "cell_type": "markdown",
   "id": "de79bf37-bd83-4b79-b7bc-7cddd5880753",
   "metadata": {},
   "source": [
    "9. string.find(sub)"
   ]
  },
  {
   "cell_type": "markdown",
   "id": "3d9d5076-8d5b-4691-a78f-e2df0e5ea39b",
   "metadata": {},
   "source": [
    "\tReturns the index of first occurrence, or -1"
   ]
  },
  {
   "cell_type": "code",
   "execution_count": 32,
   "id": "28eafd49-b596-41fb-97df-5c8032c0bc22",
   "metadata": {},
   "outputs": [
    {
     "name": "stdout",
     "output_type": "stream",
     "text": [
      "1\n"
     ]
    }
   ],
   "source": [
    "my_string = \"hello\"\n",
    "print(my_string.find(\"e\"))"
   ]
  },
  {
   "cell_type": "markdown",
   "id": "fb695f09-c21d-4331-a818-65023edf1a6a",
   "metadata": {},
   "source": [
    "10. string.index"
   ]
  },
  {
   "cell_type": "markdown",
   "id": "fc5ecb0a-cf7f-4c7d-b1ae-994b13483d8e",
   "metadata": {},
   "source": [
    "\tLike find(), but raises error if not found."
   ]
  },
  {
   "cell_type": "code",
   "execution_count": 35,
   "id": "06443d9f-94b3-408c-aaf2-81ead3c6d80d",
   "metadata": {},
   "outputs": [
    {
     "name": "stdout",
     "output_type": "stream",
     "text": [
      "4\n"
     ]
    }
   ],
   "source": [
    "my_string = \"hello\"\n",
    "print(my_string.find(\"o\"))"
   ]
  },
  {
   "cell_type": "markdown",
   "id": "e384fb3b-d336-467f-adaf-4094fc3a7b3f",
   "metadata": {},
   "source": [
    "11. string.count(sub)"
   ]
  },
  {
   "cell_type": "markdown",
   "id": "c129286f-eb59-4fdb-bc92-0740adafa471",
   "metadata": {},
   "source": [
    "\tCounts how many times a substring appears."
   ]
  },
  {
   "cell_type": "code",
   "execution_count": 39,
   "id": "c165442a-ffd4-497c-8dcf-dc7a8323527e",
   "metadata": {},
   "outputs": [
    {
     "name": "stdout",
     "output_type": "stream",
     "text": [
      "2\n"
     ]
    }
   ],
   "source": [
    "my_string = \"banana\"\n",
    "print(my_string.count(\"n\"))"
   ]
  },
  {
   "cell_type": "markdown",
   "id": "6eeeb5c1-1beb-44c5-a04c-3e730cbf7d0a",
   "metadata": {},
   "source": [
    "12. startswith(sub)"
   ]
  },
  {
   "cell_type": "markdown",
   "id": "15e8607a-54b0-4fa8-9272-95c9a01d1046",
   "metadata": {},
   "source": [
    "Checks if string starts with ."
   ]
  },
  {
   "cell_type": "code",
   "execution_count": 42,
   "id": "039e06c2-6e9e-4548-aaf9-657c6af97aef",
   "metadata": {},
   "outputs": [
    {
     "name": "stdout",
     "output_type": "stream",
     "text": [
      "True\n"
     ]
    }
   ],
   "source": [
    "my_string = \"hello\"\n",
    "print(my_string.startswith(\"h\"))"
   ]
  },
  {
   "cell_type": "markdown",
   "id": "207925d8-51f1-4d2f-92d6-aa017c6671b2",
   "metadata": {},
   "source": [
    "13. endswith(sub)"
   ]
  },
  {
   "cell_type": "markdown",
   "id": "6bdeb639-194b-4b8e-8526-ec36fab2f298",
   "metadata": {},
   "source": [
    "\tChecks if string ends with substring."
   ]
  },
  {
   "cell_type": "code",
   "execution_count": 46,
   "id": "3aafd5d1-c708-4ef0-9a93-3b2e3897fb4a",
   "metadata": {},
   "outputs": [
    {
     "name": "stdout",
     "output_type": "stream",
     "text": [
      "True\n"
     ]
    }
   ],
   "source": [
    "my_string = \"hello\"\n",
    "print(my_string.endswith(\"o\"))"
   ]
  },
  {
   "cell_type": "markdown",
   "id": "beff180d-7b16-45bf-a435-0376a4fc086d",
   "metadata": {},
   "source": [
    "14. split()\t"
   ]
  },
  {
   "cell_type": "markdown",
   "id": "0302df0e-984b-486d-b442-c34ddaac3056",
   "metadata": {},
   "source": [
    "\tSplits string into a list."
   ]
  },
  {
   "cell_type": "code",
   "execution_count": 49,
   "id": "0062d603-e42f-4474-a1f3-bfc5fe6c42fb",
   "metadata": {},
   "outputs": [
    {
     "name": "stdout",
     "output_type": "stream",
     "text": [
      "['apple', 'banana', 'grapes']\n"
     ]
    }
   ],
   "source": [
    "my_string = \"apple,banana,grapes\"\n",
    "print(my_string.split(\",\"))"
   ]
  },
  {
   "cell_type": "markdown",
   "id": "e370b3f5-1a4f-4107-bf47-f094c2955836",
   "metadata": {},
   "source": [
    "15. join(list)"
   ]
  },
  {
   "cell_type": "markdown",
   "id": "af0f20f9-81b5-4c98-9d38-f582f104192d",
   "metadata": {},
   "source": [
    "\tJoins list into a string with separator."
   ]
  },
  {
   "cell_type": "code",
   "execution_count": 53,
   "id": "b5e2230b-2323-46c1-a5c9-9abb750e0a03",
   "metadata": {},
   "outputs": [
    {
     "name": "stdout",
     "output_type": "stream",
     "text": [
      "apple,banana,grapes\n"
     ]
    }
   ],
   "source": [
    "my_string = [\"apple,banana,grapes\"]\n",
    "print(\",\".join(my_string))"
   ]
  },
  {
   "cell_type": "markdown",
   "id": "de9cc1d8-a0c6-4f27-91d8-7c2630d63ec3",
   "metadata": {},
   "source": [
    "16. isalnum()"
   ]
  },
  {
   "cell_type": "markdown",
   "id": "28f8f43c-567d-499b-9f47-5f40bd839d01",
   "metadata": {},
   "source": [
    "\tReturns True if all characters are alphanumeric."
   ]
  },
  {
   "cell_type": "code",
   "execution_count": 56,
   "id": "8682d98f-83c3-4724-9ab3-001273d123f2",
   "metadata": {},
   "outputs": [
    {
     "name": "stdout",
     "output_type": "stream",
     "text": [
      "True\n"
     ]
    }
   ],
   "source": [
    "my_string = \"hello123\"\n",
    "print(my_string.isalnum())"
   ]
  },
  {
   "cell_type": "markdown",
   "id": "ca590b38-5142-487d-b50b-fa8f058e2654",
   "metadata": {},
   "source": [
    "17. isdigit()"
   ]
  },
  {
   "cell_type": "markdown",
   "id": "5ff5c287-25d3-4d89-9665-6b440be1be70",
   "metadata": {},
   "source": [
    "\tReturns True if all characters are digits."
   ]
  },
  {
   "cell_type": "code",
   "execution_count": 59,
   "id": "429b058a-3cf8-4966-9c02-c24ec276a128",
   "metadata": {},
   "outputs": [
    {
     "name": "stdout",
     "output_type": "stream",
     "text": [
      "True\n"
     ]
    }
   ],
   "source": [
    "my_string = \"12345\"\n",
    "print(my_string.isdigit())"
   ]
  },
  {
   "cell_type": "markdown",
   "id": "ff141fab-472d-4066-841c-e01f53ffc71a",
   "metadata": {},
   "source": [
    "18. isdecimal()"
   ]
  },
  {
   "cell_type": "markdown",
   "id": "c7c73ca3-1ad3-4554-ad79-848bfd63d557",
   "metadata": {},
   "source": [
    "\tReturns True if all characters are decimals"
   ]
  },
  {
   "cell_type": "code",
   "execution_count": 64,
   "id": "9b96c675-01af-4665-bb10-b86341ee5074",
   "metadata": {},
   "outputs": [
    {
     "name": "stdout",
     "output_type": "stream",
     "text": [
      "True\n"
     ]
    }
   ],
   "source": [
    "my_string = \"123\"\n",
    "print(my_string.isdecimal())"
   ]
  },
  {
   "cell_type": "markdown",
   "id": "0bb7e346-0e49-4f37-a4d8-753487284282",
   "metadata": {},
   "source": [
    "19. zfill(width)"
   ]
  },
  {
   "cell_type": "markdown",
   "id": "8b423878-2f7d-4686-ae6c-e14861322a94",
   "metadata": {},
   "source": [
    "\tPads string on the left with zeros"
   ]
  },
  {
   "cell_type": "code",
   "execution_count": 5,
   "id": "554d0974-c518-4c69-a501-1e136adb83a0",
   "metadata": {},
   "outputs": [
    {
     "name": "stdout",
     "output_type": "stream",
     "text": [
      "0042\n"
     ]
    }
   ],
   "source": [
    "my_string1 = 42\n",
    "print(str(my_string1).zfill(4))"
   ]
  },
  {
   "cell_type": "markdown",
   "id": "96296644-89b7-4dc7-b0bf-7710d3ba695a",
   "metadata": {},
   "source": [
    "20. encode() "
   ]
  },
  {
   "cell_type": "markdown",
   "id": "1c42dc83-149e-4187-bcba-64b231b3d2a2",
   "metadata": {},
   "source": [
    "Converts string to bytes using UTF-8 encoding by default"
   ]
  },
  {
   "cell_type": "code",
   "execution_count": 8,
   "id": "67d0fbd7-0dd7-4ee8-a623-d9925892f98e",
   "metadata": {},
   "outputs": [
    {
     "name": "stdout",
     "output_type": "stream",
     "text": [
      "b'hello'\n"
     ]
    }
   ],
   "source": [
    "text = \"hello\"\n",
    "print(text.encode())"
   ]
  },
  {
   "cell_type": "markdown",
   "id": "6c1b8936-6c03-4826-903f-eac5957ffdfc",
   "metadata": {},
   "source": [
    "21. expandtabs(tabsize=8)"
   ]
  },
  {
   "cell_type": "markdown",
   "id": "ec918c21-5d2a-455b-8699-924c744222fc",
   "metadata": {},
   "source": [
    "Replaces \\t with spaces."
   ]
  },
  {
   "cell_type": "markdown",
   "id": "a6a76f27-18f3-4720-ba59-e7ee0d64189f",
   "metadata": {},
   "source": [
    "text = \"a\\tb\\tc\"\n",
    "print(text.expandtabs(4))"
   ]
  },
  {
   "cell_type": "markdown",
   "id": "d5d8b895-065b-441e-a96a-49191986cb59",
   "metadata": {},
   "source": [
    "22. format()"
   ]
  },
  {
   "cell_type": "markdown",
   "id": "bc64e177-4dec-4726-a1d0-c1aaf12b7105",
   "metadata": {},
   "source": [
    "Inserts values into placeholders {}."
   ]
  },
  {
   "cell_type": "code",
   "execution_count": 14,
   "id": "e7da8005-ccd1-4308-891a-62a68aec2624",
   "metadata": {},
   "outputs": [
    {
     "name": "stdout",
     "output_type": "stream",
     "text": [
      "My name is Shiwani and I am 25 years old\n"
     ]
    }
   ],
   "source": [
    "name = \"Shiwani\"\n",
    "age = 25\n",
    "print(\"My name is {} and I am {} years old\".format(name, age))"
   ]
  },
  {
   "cell_type": "markdown",
   "id": "09eca93c-57eb-40dd-9618-9972aa487b6f",
   "metadata": {},
   "source": [
    "23. format_map()"
   ]
  },
  {
   "cell_type": "markdown",
   "id": "36887d1b-b54e-4c5a-9c16-ab9c55154e4b",
   "metadata": {},
   "source": [
    "Like format() but uses a dictionary directly."
   ]
  },
  {
   "cell_type": "code",
   "execution_count": 17,
   "id": "4b46e7c3-4a54-4595-8b72-8e9ad6f44386",
   "metadata": {},
   "outputs": [
    {
     "name": "stdout",
     "output_type": "stream",
     "text": [
      "Name: Shiwani, Age: 25\n"
     ]
    }
   ],
   "source": [
    "info = {\"name\": \"Shiwani\", \"age\": 25}\n",
    "print(\"Name: {name}, Age: {age}\".format_map(info))"
   ]
  },
  {
   "cell_type": "markdown",
   "id": "e713e4e6-c064-46d7-9ab7-17878837340e",
   "metadata": {},
   "source": [
    "24. isascii()"
   ]
  },
  {
   "cell_type": "markdown",
   "id": "bde53c36-941d-4ec3-ac48-c876d114f785",
   "metadata": {},
   "source": [
    "Returns True if all characters are ASCII."
   ]
  },
  {
   "cell_type": "code",
   "execution_count": 20,
   "id": "373eec17-3a9e-4800-9517-0284be5747e8",
   "metadata": {},
   "outputs": [
    {
     "name": "stdout",
     "output_type": "stream",
     "text": [
      "True\n",
      "False\n"
     ]
    }
   ],
   "source": [
    "print(\"Hello123\".isascii())\n",
    "print(\"नमस्ते\".isascii())"
   ]
  },
  {
   "cell_type": "markdown",
   "id": "8cc223e2-9075-4091-8eee-fb0e0fb0d1df",
   "metadata": {},
   "source": [
    "25.   isidentifier()"
   ]
  },
  {
   "cell_type": "markdown",
   "id": "1a3f992c-8a53-4503-8b74-badeaa4eaf05",
   "metadata": {},
   "source": [
    "Checks if string is a valid Python variable name."
   ]
  },
  {
   "cell_type": "code",
   "execution_count": 23,
   "id": "b21591ec-fc85-4e4a-a5be-af070322dce9",
   "metadata": {},
   "outputs": [
    {
     "name": "stdout",
     "output_type": "stream",
     "text": [
      "True\n",
      "False\n"
     ]
    }
   ],
   "source": [
    "print(\"name1\".isidentifier())\n",
    "print(\"1name\".isidentifier())"
   ]
  },
  {
   "cell_type": "markdown",
   "id": "ecf2a56a-f204-4fe0-b192-6fbff47526ce",
   "metadata": {},
   "source": [
    "26.  isprintable()"
   ]
  },
  {
   "cell_type": "markdown",
   "id": "a76822c1-9d05-4e21-84de-171c143e540b",
   "metadata": {},
   "source": [
    "Returns True if string has only printable characters."
   ]
  },
  {
   "cell_type": "code",
   "execution_count": 26,
   "id": "438528dc-ef49-4a73-875c-6cf9de43c4bf",
   "metadata": {},
   "outputs": [
    {
     "name": "stdout",
     "output_type": "stream",
     "text": [
      "True\n",
      "False\n"
     ]
    }
   ],
   "source": [
    "print(\"Hello!\".isprintable())\n",
    "print(\"Hello\\nWorld\".isprintable())"
   ]
  },
  {
   "cell_type": "markdown",
   "id": "e72eea07-f7ff-4943-9393-2b26d62be674",
   "metadata": {},
   "source": [
    "27. isspace()"
   ]
  },
  {
   "cell_type": "markdown",
   "id": "55092971-5451-428b-84f3-5c68ab89dcfb",
   "metadata": {},
   "source": [
    "Returns True if all characters are whitespace."
   ]
  },
  {
   "cell_type": "code",
   "execution_count": 29,
   "id": "38688f47-573f-4526-ae19-5a00e4653c58",
   "metadata": {},
   "outputs": [
    {
     "name": "stdout",
     "output_type": "stream",
     "text": [
      "True\n",
      "False\n"
     ]
    }
   ],
   "source": [
    "print(\"   \".isspace())\n",
    "print(\"a b\".isspace())"
   ]
  },
  {
   "cell_type": "markdown",
   "id": "71f19731-81d8-4635-82a3-61a4b4ccb5d1",
   "metadata": {},
   "source": [
    "28. partition(sep)"
   ]
  },
  {
   "cell_type": "markdown",
   "id": "22bdd693-54f9-47e8-9e1a-f9ebcd10d680",
   "metadata": {},
   "source": [
    "Splits string into 3 parts: before, separator, after"
   ]
  },
  {
   "cell_type": "code",
   "execution_count": 32,
   "id": "44badfc2-fd4d-4ea2-85e1-251fb466b258",
   "metadata": {},
   "outputs": [
    {
     "name": "stdout",
     "output_type": "stream",
     "text": [
      "('hello', ' ', 'world')\n"
     ]
    }
   ],
   "source": [
    "text = \"hello world\"\n",
    "print(text.partition(\" \"))"
   ]
  },
  {
   "cell_type": "markdown",
   "id": "cc1213dc-67f9-485b-90f3-78d045848dc5",
   "metadata": {},
   "source": [
    "29.  removeprefix(prefix)"
   ]
  },
  {
   "cell_type": "markdown",
   "id": "e85e3c34-d273-4870-bf1d-07258d3e7b6b",
   "metadata": {},
   "source": [
    "Removes prefix if it exists."
   ]
  },
  {
   "cell_type": "code",
   "execution_count": 35,
   "id": "85db4171-f770-4130-9b69-9b8254675709",
   "metadata": {},
   "outputs": [
    {
     "name": "stdout",
     "output_type": "stream",
     "text": [
      "happy\n"
     ]
    }
   ],
   "source": [
    "print(\"unhappy\".removeprefix(\"un\"))"
   ]
  },
  {
   "cell_type": "markdown",
   "id": "867afdc5-12d7-4ae7-ab89-cef070df8ad8",
   "metadata": {},
   "source": [
    "30. removesuffix(suffix)"
   ]
  },
  {
   "cell_type": "markdown",
   "id": "444d59ad-eeb8-4faa-970b-5bf2da3fae9f",
   "metadata": {},
   "source": [
    "Removes suffix if it exists."
   ]
  },
  {
   "cell_type": "code",
   "execution_count": 38,
   "id": "f5506a28-fc39-4285-99f2-d9aa92e69c56",
   "metadata": {},
   "outputs": [
    {
     "name": "stdout",
     "output_type": "stream",
     "text": [
      "data\n"
     ]
    }
   ],
   "source": [
    "print(\"data.csv\".removesuffix(\".csv\"))"
   ]
  },
  {
   "cell_type": "markdown",
   "id": "1b7f5c41-dfa7-45fa-be70-7dcf278c69dd",
   "metadata": {},
   "source": [
    "31. replace(old, new)"
   ]
  },
  {
   "cell_type": "markdown",
   "id": "57d7004c-45d1-43ff-8071-3001e1b40fc3",
   "metadata": {},
   "source": [
    "Replaces all occurrences of a substring."
   ]
  },
  {
   "cell_type": "code",
   "execution_count": 41,
   "id": "77bb5886-6787-4001-b113-8eb3709a1ef4",
   "metadata": {},
   "outputs": [
    {
     "name": "stdout",
     "output_type": "stream",
     "text": [
      "bonono\n"
     ]
    }
   ],
   "source": [
    "print(\"banana\".replace(\"a\", \"o\"))"
   ]
  },
  {
   "cell_type": "markdown",
   "id": "1b2e3973-398c-4fea-b8e3-1b10002dcde5",
   "metadata": {},
   "source": [
    "32.  rfind(sub)"
   ]
  },
  {
   "cell_type": "markdown",
   "id": "2ffa2fbe-2ea1-44c6-af64-5965cbd64d3f",
   "metadata": {},
   "source": [
    "Finds last index of substring, returns -1 if not found."
   ]
  },
  {
   "cell_type": "code",
   "execution_count": 45,
   "id": "7fcdcc39-0e33-4387-9b3d-8c1d1aaf33bd",
   "metadata": {},
   "outputs": [
    {
     "name": "stdout",
     "output_type": "stream",
     "text": [
      "9\n"
     ]
    }
   ],
   "source": [
    "print(\"hello hello\".rfind(\"l\"))"
   ]
  },
  {
   "cell_type": "markdown",
   "id": "c8212fc0-7be7-471c-a5e4-01151f367eb5",
   "metadata": {},
   "source": [
    "33. rindex(sub)"
   ]
  },
  {
   "cell_type": "markdown",
   "id": "ed3039fb-8dc6-4cef-b4da-b8ae66712f15",
   "metadata": {},
   "source": [
    "Like rfind() but raises error if not found."
   ]
  },
  {
   "cell_type": "code",
   "execution_count": 48,
   "id": "ef0f321d-c023-49b6-9463-d95846123359",
   "metadata": {},
   "outputs": [
    {
     "name": "stdout",
     "output_type": "stream",
     "text": [
      "3\n"
     ]
    }
   ],
   "source": [
    "print(\"hello\".rindex(\"l\"))"
   ]
  },
  {
   "cell_type": "markdown",
   "id": "8beac5fa-8e3c-44a9-92c1-a3181b391e2d",
   "metadata": {},
   "source": [
    "34. rjust(width)"
   ]
  },
  {
   "cell_type": "markdown",
   "id": "d0980eaf-bd13-4c70-a7b5-2e53d15b07f5",
   "metadata": {},
   "source": [
    "Right-aligns string with padding (default space)."
   ]
  },
  {
   "cell_type": "code",
   "execution_count": 51,
   "id": "d9cb808c-8469-4b43-a4c8-7e5ad47428c4",
   "metadata": {},
   "outputs": [
    {
     "name": "stdout",
     "output_type": "stream",
     "text": [
      "   42\n"
     ]
    }
   ],
   "source": [
    "print(\"42\".rjust(5))"
   ]
  },
  {
   "cell_type": "markdown",
   "id": "9b8fbc04-61e4-441a-b5a5-7f7a1dcd46eb",
   "metadata": {},
   "source": [
    "35. splitlines()"
   ]
  },
  {
   "cell_type": "markdown",
   "id": "da4164e2-7228-49ad-bdfa-efcbee5e8fbf",
   "metadata": {},
   "source": [
    "Splits string at line breaks into a list."
   ]
  },
  {
   "cell_type": "code",
   "execution_count": 54,
   "id": "0d521f91-0aa4-422c-9560-0469e8175bf6",
   "metadata": {},
   "outputs": [
    {
     "name": "stdout",
     "output_type": "stream",
     "text": [
      "['line1', 'line2', 'line3']\n"
     ]
    }
   ],
   "source": [
    "text = \"line1\\nline2\\nline3\"\n",
    "print(text.splitlines())"
   ]
  },
  {
   "cell_type": "markdown",
   "id": "5136d59c-ad67-4ad6-9c59-34e28ebc0f81",
   "metadata": {},
   "source": [
    "36. translate(table)"
   ]
  },
  {
   "cell_type": "markdown",
   "id": "0c7ccc8b-340e-4082-b041-bc3a1a261295",
   "metadata": {},
   "source": [
    "Replaces characters using a translation table."
   ]
  },
  {
   "cell_type": "code",
   "execution_count": 57,
   "id": "7928e6d4-6be4-43aa-bed3-df74cee55ed7",
   "metadata": {},
   "outputs": [
    {
     "name": "stdout",
     "output_type": "stream",
     "text": [
      "1ppl2\n"
     ]
    }
   ],
   "source": [
    "table = str.maketrans(\"aeiou\", \"12345\")\n",
    "print(\"apple\".translate(table))"
   ]
  },
  {
   "cell_type": "code",
   "execution_count": null,
   "id": "376bbe5c-bb6b-451c-bb5b-5039e13b4f4f",
   "metadata": {},
   "outputs": [],
   "source": []
  }
 ],
 "metadata": {
  "kernelspec": {
   "display_name": "Python 3 (ipykernel)",
   "language": "python",
   "name": "python3"
  },
  "language_info": {
   "codemirror_mode": {
    "name": "ipython",
    "version": 3
   },
   "file_extension": ".py",
   "mimetype": "text/x-python",
   "name": "python",
   "nbconvert_exporter": "python",
   "pygments_lexer": "ipython3",
   "version": "3.13.3"
  }
 },
 "nbformat": 4,
 "nbformat_minor": 5
}
