{
 "cells": [
  {
   "cell_type": "code",
   "execution_count": null,
   "id": "8d46ee2d-854b-44da-9f11-b126c312c35c",
   "metadata": {},
   "outputs": [],
   "source": [
    "Python if else – statement"
   ]
  },
  {
   "cell_type": "markdown",
   "id": "6707ed30-7402-4e93-8b0b-716be3bee370",
   "metadata": {},
   "source": [
    "Q1. Write a program to calculate the electricity bill\n",
    "using only if statement? (accept number of unit from user)\n",
    "according to the following criteria:\n",
    "\n",
    "Unit Price\n",
    "First 100 units no charge\n",
    "Next 100 units Rs 5 per unit\n",
    "After 200 units Rs 10 per unit\n",
    "(For example, if input unit is 350 than total bill amount is Rs2000). Lets explain...\n",
    "For first 100 no charges\n",
    "Now you have 250 unit remaining\n",
    "100-200 you need to pay – 100*5 = 500\n",
    "Now 200-100 you need to pay 150*10 = 1500\n",
    "Total = 500+1500 = 2000"
   ]
  },
  {
   "cell_type": "code",
   "execution_count": 5,
   "id": "e5aa2f2c-b2dd-4377-b744-1abcac6745d1",
   "metadata": {},
   "outputs": [
    {
     "name": "stdin",
     "output_type": "stream",
     "text": [
      "Enter the number of units consumed:  350\n"
     ]
    },
    {
     "name": "stdout",
     "output_type": "stream",
     "text": [
      "Total Electricity Bill: Rs 2000\n"
     ]
    }
   ],
   "source": [
    "# Accept units from the user\n",
    "units = int(input(\"Enter the number of units consumed: \"))\n",
    "\n",
    "bill = 0  # Initialize bill\n",
    "\n",
    "# Calculate bill using only if statements\n",
    "if units > 200:\n",
    "    bill += (units - 200) * 10  # Above 200\n",
    "if units > 100:\n",
    "    # This handles units between 101 and 200 only\n",
    "    if units > 200:\n",
    "        bill += 100 * 5         # Only 100 units charged at Rs 5\n",
    "    else:\n",
    "        bill += (units - 100) * 5\n",
    "# No charge for the first 100 units, so no need for an if statement\n",
    "\n",
    "print(\"Total Electricity Bill: Rs\", bill)\n"
   ]
  },
  {
   "cell_type": "markdown",
   "id": "5d0bb7fb-0192-4da1-88c1-5179eb138363",
   "metadata": {},
   "source": [
    "Q2. Write a program to accept percentage from the user and display\n",
    "the grade according to the following criteria:\n",
    "Marks Grade\n",
    "> 90 A\n",
    "> 80 and <= 90 B\n",
    ">= 60 and <= 80 C\n",
    "below 60 D"
   ]
  },
  {
   "cell_type": "code",
   "execution_count": 8,
   "id": "0cbd31dd-024f-412b-9683-d7844b6148e7",
   "metadata": {},
   "outputs": [
    {
     "name": "stdin",
     "output_type": "stream",
     "text": [
      "Enter your percentage:  92\n"
     ]
    },
    {
     "name": "stdout",
     "output_type": "stream",
     "text": [
      "Grade: A\n"
     ]
    }
   ],
   "source": [
    "# Accept percentage from the user\n",
    "percentage = float(input(\"Enter your percentage: \"))\n",
    "\n",
    "# Determine grade using if-elif-else\n",
    "if percentage > 90:\n",
    "    print(\"Grade: A\")\n",
    "elif percentage > 80 and percentage <= 90:\n",
    "    print(\"Grade: B\")\n",
    "elif percentage >= 60 and percentage <= 80:\n",
    "    print(\"Grade: C\")\n",
    "else:\n",
    "    print(\"Grade: D\")"
   ]
  },
  {
   "cell_type": "markdown",
   "id": "86bafe02-ee1c-4865-a0e4-29ccc6f2a391",
   "metadata": {},
   "source": [
    "Q3. Accept the age of 4 people and display the youngest one?"
   ]
  },
  {
   "cell_type": "code",
   "execution_count": 9,
   "id": "59e16258-3ceb-4dcd-b4f9-85c6989b4481",
   "metadata": {},
   "outputs": [
    {
     "name": "stdin",
     "output_type": "stream",
     "text": [
      "Enter age of person 1:  34\n",
      "Enter age of person 2:  21\n",
      "Enter age of person 3:  40\n",
      "Enter age of person 4:  18\n"
     ]
    },
    {
     "name": "stdout",
     "output_type": "stream",
     "text": [
      "The youngest age is: 18\n"
     ]
    }
   ],
   "source": [
    "# Accept ages from user\n",
    "age1 = int(input(\"Enter age of person 1: \"))\n",
    "age2 = int(input(\"Enter age of person 2: \"))\n",
    "age3 = int(input(\"Enter age of person 3: \"))\n",
    "age4 = int(input(\"Enter age of person 4: \"))\n",
    "\n",
    "# Assume first person is the youngest\n",
    "youngest = age1\n",
    "\n",
    "# Compare with other ages using only if statements\n",
    "if age2 < youngest:\n",
    "    youngest = age2\n",
    "if age3 < youngest:\n",
    "    youngest = age3\n",
    "if age4 < youngest:\n",
    "    youngest = age4\n",
    "\n",
    "print(\"The youngest age is:\", youngest)"
   ]
  },
  {
   "cell_type": "markdown",
   "id": "b81eeeb2-e528-429e-9a4c-5d32890ca2c9",
   "metadata": {},
   "source": [
    "\n",
    "Q4. A company decided to give bonus to employee\n",
    "according to following criteria:\n",
    "\n",
    "Time period of Service Bonus\n",
    "\n",
    "More than 10 years 10%\n",
    "\n",
    ">=6 and <=10 8%\n",
    "\n",
    "Less than 6 years 5%\n",
    "\n",
    "Ask user for their salary and years of service and print the\n",
    "net bonus amount?"
   ]
  },
  {
   "cell_type": "code",
   "execution_count": 10,
   "id": "06c1d135-b17f-4cb9-98e8-493ac3e1781f",
   "metadata": {},
   "outputs": [
    {
     "name": "stdin",
     "output_type": "stream",
     "text": [
      "Enter your salary:  50000\n",
      "Enter your years of service:  8\n"
     ]
    },
    {
     "name": "stdout",
     "output_type": "stream",
     "text": [
      "Your bonus amount is: Rs 4000.0\n"
     ]
    }
   ],
   "source": [
    "# Accept salary and years of service from the user\n",
    "salary = float(input(\"Enter your salary: \"))\n",
    "years = int(input(\"Enter your years of service: \"))\n",
    "\n",
    "# Initialize bonus\n",
    "bonus = 0\n",
    "\n",
    "# Determine bonus based on years of service\n",
    "if years > 10:\n",
    "    bonus = salary * 0.10\n",
    "elif years >= 6 and years <= 10:\n",
    "    bonus = salary * 0.08\n",
    "else:\n",
    "    bonus = salary * 0.05\n",
    "\n",
    "# Print the bonus amount\n",
    "print(\"Your bonus amount is: Rs\", bonus)"
   ]
  },
  {
   "cell_type": "markdown",
   "id": "782b2669-d690-44df-83c0-3e15059dc840",
   "metadata": {},
   "source": [
    "Q5. Accept three numbers from the user and\n",
    "display the second largest number?"
   ]
  },
  {
   "cell_type": "code",
   "execution_count": 21,
   "id": "2a0b005d-4413-42ee-9d36-dcd7d4651e9a",
   "metadata": {},
   "outputs": [
    {
     "name": "stdin",
     "output_type": "stream",
     "text": [
      "Enter first number:  45\n",
      "Enter second number:  78\n",
      "Enter third number:  66\n"
     ]
    },
    {
     "name": "stdout",
     "output_type": "stream",
     "text": [
      "The second largest number is: 66.0\n"
     ]
    }
   ],
   "source": [
    "# Accept three numbers from the user\n",
    "num1 = float(input(\"Enter first number: \"))\n",
    "num2 = float(input(\"Enter second number: \"))\n",
    "num3 = float(input(\"Enter third number: \"))\n",
    "\n",
    "# Logic to find the second largest number using only if-else\n",
    "if (num1 > num2 and num1 < num3) or (num1 > num3 and num1 < num2):\n",
    "    second_largest = num1\n",
    "elif (num2 > num1 and num2 < num3) or (num2 > num3 and num2 < num1):\n",
    "    second_largest = num2\n",
    "else:\n",
    "    second_largest = num3\n",
    "\n",
    "print(\"The second largest number is:\", second_largest)"
   ]
  },
  {
   "cell_type": "markdown",
   "id": "442a506b-4d85-4c58-a57d-b2aaa11d514b",
   "metadata": {},
   "source": [
    "\n",
    "Q6. Accept the marked price from the user and calculate\n",
    "the Net amount as (Marked Price – Discount) to pay\n",
    "according to following criteria:\n",
    "\n",
    "Marked Price Discount\n",
    ">10000 20%\n",
    ">7000 and <=10000 15%\n",
    "<=7000 10%"
   ]
  },
  {
   "cell_type": "code",
   "execution_count": 16,
   "id": "89327219-38a5-403d-8aa8-112d2bbd119f",
   "metadata": {},
   "outputs": [
    {
     "name": "stdin",
     "output_type": "stream",
     "text": [
      "Enter the marked price:  9500\n"
     ]
    },
    {
     "name": "stdout",
     "output_type": "stream",
     "text": [
      "Discount: Rs 1425.0\n",
      "Net amount to pay: Rs 8075.0\n"
     ]
    }
   ],
   "source": [
    "# Accept marked price from the user\n",
    "marked_price = float(input(\"Enter the marked price: \"))\n",
    "\n",
    "# Initialize discount\n",
    "discount = 0\n",
    "\n",
    "# Apply discount based on criteria\n",
    "if marked_price > 10000:\n",
    "    discount = marked_price * 0.20\n",
    "elif marked_price > 7000 and marked_price <= 10000:\n",
    "    discount = marked_price * 0.15\n",
    "else:\n",
    "    discount = marked_price * 0.10\n",
    "\n",
    "# Calculate net amount to pay\n",
    "net_amount = marked_price - discount\n",
    "\n",
    "# Display the result\n",
    "print(\"Discount: Rs\", discount)\n",
    "print(\"Net amount to pay: Rs\", net_amount)"
   ]
  },
  {
   "cell_type": "markdown",
   "id": "e5db98d1-6cdc-453f-91ef-7a30419f0e15",
   "metadata": {},
   "source": [
    "Q7. Accept the marks of English, Math and Science,\n",
    "Social Studies Subject and display the stream allotted\n",
    "according to following:\n",
    "\n",
    "All Subjects more than 80 marks — Science Stream\n",
    "\n",
    "English >80 and Math, Science above 50 — Commerce Stream\n",
    "\n",
    "English > 80 and social studies > 80 — Humanities"
   ]
  },
  {
   "cell_type": "code",
   "execution_count": 17,
   "id": "79840805-fe24-4f66-9d0f-69abc3363be2",
   "metadata": {},
   "outputs": [
    {
     "name": "stdin",
     "output_type": "stream",
     "text": [
      "Enter marks in English:  85\n",
      "Enter marks in Math:  88\n",
      "Enter marks in Science:  90\n",
      "Enter marks in Social Studies:  92\n"
     ]
    },
    {
     "name": "stdout",
     "output_type": "stream",
     "text": [
      "The stream allotted is: Science Stream\n"
     ]
    }
   ],
   "source": [
    "# Accept marks for English, Math, Science, and Social Studies\n",
    "english = int(input(\"Enter marks in English: \"))\n",
    "math = int(input(\"Enter marks in Math: \"))\n",
    "science = int(input(\"Enter marks in Science: \"))\n",
    "social_studies = int(input(\"Enter marks in Social Studies: \"))\n",
    "\n",
    "# Determine the stream based on the conditions\n",
    "if english > 80 and math > 80 and science > 80 and social_studies > 80:\n",
    "    stream = \"Science Stream\"\n",
    "elif english > 80 and math > 50 and science > 50:\n",
    "    stream = \"Commerce Stream\"\n",
    "elif english > 80 and social_studies > 80:\n",
    "    stream = \"Humanities Stream\"\n",
    "else:\n",
    "    stream = \"No stream allocated based on the given criteria\"\n",
    "\n",
    "# Display the stream\n",
    "print(\"The stream allotted is:\", stream)\n"
   ]
  },
  {
   "cell_type": "markdown",
   "id": "17d69beb-359d-48cb-800a-019d5150003f",
   "metadata": {},
   "source": [
    "Q8. Write a program to display \"Hello\" if a number entered\n",
    "by user is a multiple of five, otherwise print \"Bye\"?"
   ]
  },
  {
   "cell_type": "code",
   "execution_count": 18,
   "id": "cfed841a-168a-47d3-8a49-03ee37ab7a40",
   "metadata": {},
   "outputs": [
    {
     "name": "stdin",
     "output_type": "stream",
     "text": [
      "Enter a number:  10\n"
     ]
    },
    {
     "name": "stdout",
     "output_type": "stream",
     "text": [
      "Hello\n"
     ]
    }
   ],
   "source": [
    "# Accept a number from the user\n",
    "number = int(input(\"Enter a number: \"))\n",
    "\n",
    "# Check if the number is a multiple of five\n",
    "if number % 5 == 0:\n",
    "    print(\"Hello\")\n",
    "else:\n",
    "    print(\"Bye\")"
   ]
  },
  {
   "cell_type": "markdown",
   "id": "098153c0-7e02-4be3-8f49-0c290808ebbf",
   "metadata": {},
   "source": [
    "Q9. Write a program to check whether the last digit of a number\n",
    "(entered by user) is divisible by 3 or not?\n",
    "\n"
   ]
  },
  {
   "cell_type": "code",
   "execution_count": 19,
   "id": "dd1296b4-6f64-430b-a283-b6a764646ca9",
   "metadata": {},
   "outputs": [
    {
     "name": "stdin",
     "output_type": "stream",
     "text": [
      "Enter a number:  12345\n"
     ]
    },
    {
     "name": "stdout",
     "output_type": "stream",
     "text": [
      "The last digit is not divisible by 3\n"
     ]
    }
   ],
   "source": [
    "# Accept a number from the user\n",
    "number = int(input(\"Enter a number: \"))\n",
    "\n",
    "# Get the last digit of the number\n",
    "last_digit = number % 10\n",
    "\n",
    "# Check if the last digit is divisible by 3\n",
    "if last_digit % 3 == 0:\n",
    "    print(\"The last digit is divisible by 3\")\n",
    "else:\n",
    "    print(\"The last digit is not divisible by 3\")"
   ]
  },
  {
   "cell_type": "markdown",
   "id": "d40af806-9f72-4599-8e62-00ab667c3d87",
   "metadata": {},
   "source": [
    "Q10. Write a program to check whether a number entered\n",
    "is three-digit number or not?"
   ]
  },
  {
   "cell_type": "code",
   "execution_count": 20,
   "id": "436f9a26-8fa6-417c-8ede-3a73496656b1",
   "metadata": {},
   "outputs": [
    {
     "name": "stdin",
     "output_type": "stream",
     "text": [
      "Enter a number:  123\n"
     ]
    },
    {
     "name": "stdout",
     "output_type": "stream",
     "text": [
      "The number is a three-digit number.\n"
     ]
    }
   ],
   "source": [
    "# Accept a number from the user\n",
    "number = int(input(\"Enter a number: \"))\n",
    "\n",
    "# Check if the number is a three-digit number\n",
    "if 100 <= abs(number) <= 999:\n",
    "    print(\"The number is a three-digit number.\")\n",
    "else:\n",
    "    print(\"The number is not a three-digit number.\")"
   ]
  },
  {
   "cell_type": "code",
   "execution_count": null,
   "id": "cdb01c5c-3526-4bfb-b0f6-1935554b96dc",
   "metadata": {},
   "outputs": [],
   "source": []
  }
 ],
 "metadata": {
  "kernelspec": {
   "display_name": "Python 3 (ipykernel)",
   "language": "python",
   "name": "python3"
  },
  "language_info": {
   "codemirror_mode": {
    "name": "ipython",
    "version": 3
   },
   "file_extension": ".py",
   "mimetype": "text/x-python",
   "name": "python",
   "nbconvert_exporter": "python",
   "pygments_lexer": "ipython3",
   "version": "3.13.3"
  }
 },
 "nbformat": 4,
 "nbformat_minor": 5
}
